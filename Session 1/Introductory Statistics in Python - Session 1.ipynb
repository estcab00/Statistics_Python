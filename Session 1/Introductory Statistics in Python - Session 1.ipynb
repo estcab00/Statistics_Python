{
 "cells": [
  {
   "cell_type": "markdown",
   "id": "0d30222d-e53e-48de-a947-886b1c5d7d09",
   "metadata": {},
   "source": [
    "# Introductory Statistics in Python - Session 1\n",
    "The workshop addresses the fundamentals of statistics management with Python. The objective is to give the student the fundamental knowledge to perform main statistical tasks in Python. The Python codes will be written and executed in Jupyter Notebook. Students will be provided with the necessary databases to be able to run the codes.\n",
    "\n",
    "### Session: Not defined\n",
    "### Time: Not defined\n",
    "### Lecturer: Esteban Cabrera (esteban.cabrera@pucp.edu.pe)"
   ]
  },
  {
   "cell_type": "markdown",
   "id": "824abff4-f414-42e1-bb16-02159dc4867a",
   "metadata": {},
   "source": [
    "- <a href='#t1'>1. Introduction to Statistics in Python</a>\n",
    "     - <a href='#1.1.'>1.1 Measures of central tendency</a> \n",
    "     - <a href='#1.2.'>1.2. Graficar una serie de tiempo</a>\n",
    "     - <a href='#1.3.'>1.3. Limpiar tu serie de tiempo </a>\n",
    "- <a href='#t2'>2. Customiza tu serie de tiempo</a>\n",
    "     - <a href='#2.1.'>2.1. Haz un subset de la serie de tiempo </a>\n",
    "     - <a href='#2.2.'>2.2. Añadir líneas en las gráficas  </a>\n",
    "     - <a href='#2.3.'>2.3. Sombrear regiones en tu gráfica </a>  \n",
    "     - <a href='#2.4.'>2.4. Agregar anotaciones </a>\n",
    "- <a href='#t3'>3. Graficar agregados de los datos </a> \n",
    "     - <a href='#3.1.'>3.1. Graficar el rolling average</a>\n",
    "     - <a href='#3.2.'>3.2. Graficar datos agregados por año</a>\n",
    "- <a href='#t4'>4. Graficar estadísticas y sintetizar la información</a>\n",
    "     - <a href='#4.1.'>4.1. Graficar boxplots (gráficos de caja)</a>\n",
    "\n",
    "- <a href='#t5'>5. Descomponer una serie de tiempo</a>\n",
    "- <a href='#t6'>6. Graficar múltiples series de tiempo </a>"
   ]
  },
  {
   "cell_type": "markdown",
   "id": "be215106-4a1a-42a6-94ff-f404b1ab7513",
   "metadata": {},
   "source": [
    "#  <a id='t1'> 1. Introduction to Statistics in Python</a>\n",
    "In this workshop, we embark on a journey into the world of statistics using the versatile programming language, Python. Statistics plays a pivotal role in extracting meaningful insights from data, and Python provides a powerful platform to perform statistical analysis efficiently. Get ready to explore the foundations of statistical analysis, learn essential Python libraries, and gain the skills to make informed decisions based on data. For this course we will mainly be using numpy and pandas libraries\n"
   ]
  },
  {
   "cell_type": "markdown",
   "id": "3695043f-88a5-45a3-977e-573082be3f9a",
   "metadata": {},
   "source": [
    "## <a id='1.1.'> 1.1 Measures of central tendency </a> \n",
    "In this section, we delve into the fundamental concept of \"Measures of Central Tendency.\" At the heart of statistical analysis, these measures provide a summary of the central or average value within a dataset, offering crucial insights into its central tendencies. We'll explore three primary measures: the mean, which represents the arithmetic average; the median, which identifies the middle value; and the mode, representing the most frequently occurring value. We will first use numpy arrays to use this functions. Then, we will be using a database containing macroeconomic data from Peru. "
   ]
  },
  {
   "cell_type": "code",
   "execution_count": 1,
   "id": "33cba7df-5c09-49e5-95c7-94ddc41340b5",
   "metadata": {
    "tags": []
   },
   "outputs": [],
   "source": [
    ">>> import math\n",
    ">>> import statistics\n",
    ">>> import numpy as np\n",
    ">>> from scipy import stats\n",
    ">>> import pandas as pd"
   ]
  },
  {
   "cell_type": "code",
   "execution_count": 2,
   "id": "c9a3365e-ac10-4577-9ca7-589dcfd4e1ce",
   "metadata": {
    "tags": []
   },
   "outputs": [],
   "source": [
    "# We create an list and the same list with a nan value\n",
    ">>> x = [8.0, 1, 2.5, 4, 28.0]\n",
    ">>> x_nan = [8.0, 1, 2.5, math.nan, 4, 28.0]"
   ]
  },
  {
   "cell_type": "code",
   "execution_count": 18,
   "id": "5c517a1a-706f-4f0a-a556-574895841950",
   "metadata": {
    "tags": []
   },
   "outputs": [],
   "source": [
    "# Alternatively\n",
    ">>> x_nan = [8.0, 1, 2.5, np.nan, 4, 28.0]"
   ]
  },
  {
   "cell_type": "code",
   "execution_count": 53,
   "id": "a97b91b2-32bc-495c-9c04-42cd404b30c9",
   "metadata": {
    "tags": []
   },
   "outputs": [],
   "source": [
    "# We create their array and series versions\n",
    ">>> y, y_nan = np.array(x), np.array(x_nan)\n",
    ">>> z, z_nan = pd.Series(x), pd.Series(x_nan)"
   ]
  },
  {
   "cell_type": "markdown",
   "id": "5db497dd-8bd7-4992-833d-dac0f494bcdc",
   "metadata": {},
   "source": [
    "### Mean\n",
    "We can calculate the mean dividing the sum againts the length. This does not work if we include the nan value.\n",
    "The ```mean()``` and ```fmean()``` funtions return the same value in a more elegant way. ```fmean()``` always return a float number and is faster than ```mean()```."
   ]
  },
  {
   "cell_type": "code",
   "execution_count": 19,
   "id": "f1d56f7b-2a34-4c93-b104-03e403f1157d",
   "metadata": {
    "tags": []
   },
   "outputs": [
    {
     "name": "stdout",
     "output_type": "stream",
     "text": [
      "8.7\n"
     ]
    }
   ],
   "source": [
    "# We can calculate the mean dividing the sum againts the length\n",
    "mean = sum(x) / len(x)\n",
    "print(mean)"
   ]
  },
  {
   "cell_type": "code",
   "execution_count": 20,
   "id": "a6d5cc8f-7241-4db5-9d2e-e67ad69550fc",
   "metadata": {
    "tags": []
   },
   "outputs": [
    {
     "name": "stdout",
     "output_type": "stream",
     "text": [
      "nan\n"
     ]
    }
   ],
   "source": [
    "# This does not work if we include the nan value\n",
    "mean = sum(x_nan) / len(x_nan)\n",
    "print(mean)"
   ]
  },
  {
   "cell_type": "code",
   "execution_count": 24,
   "id": "31a0f97e-1a0c-4cc5-9f1d-a0ca758c8196",
   "metadata": {
    "tags": []
   },
   "outputs": [
    {
     "name": "stdout",
     "output_type": "stream",
     "text": [
      "8.7\n",
      "8.7\n"
     ]
    }
   ],
   "source": [
    "# We can apply Python built-in functions of the statistics package\n",
    "mean = statistics.mean(x)\n",
    "print(mean)\n",
    "mean = statistics.fmean(x)\n",
    "print(mean)"
   ]
  },
  {
   "cell_type": "code",
   "execution_count": 25,
   "id": "ed9213c6-c8bc-40d7-b9bc-77ebc24ea1ff",
   "metadata": {
    "tags": []
   },
   "outputs": [
    {
     "name": "stdout",
     "output_type": "stream",
     "text": [
      "nan\n",
      "nan\n"
     ]
    }
   ],
   "source": [
    "# But they do not work wit nan values\n",
    "mean = statistics.mean(x_nan)\n",
    "print(mean)\n",
    "mean = statistics.fmean(x_nan)\n",
    "print(mean)"
   ]
  },
  {
   "cell_type": "markdown",
   "id": "1301135e-63bd-478d-9df9-140bb2d5bfdd",
   "metadata": {},
   "source": [
    " Numpy also offers us the ```np.mean()``` and ```np.nanmean()``` functions, as well as the ```.mean()``` method. "
   ]
  },
  {
   "cell_type": "code",
   "execution_count": 33,
   "id": "12e9f90d-ab9f-44f3-aeeb-d321cc52f329",
   "metadata": {
    "tags": []
   },
   "outputs": [
    {
     "name": "stdout",
     "output_type": "stream",
     "text": [
      "8.7\n",
      "nan\n"
     ]
    }
   ],
   "source": [
    "# We can also use the numpy function on lists\n",
    "mean = np.mean(x)\n",
    "print(mean)\n",
    "mean = np.mean(x_nan)\n",
    "print(mean)"
   ]
  },
  {
   "cell_type": "code",
   "execution_count": 34,
   "id": "e23dd3f8-266a-4d4b-a729-96cae83cefee",
   "metadata": {
    "tags": []
   },
   "outputs": [
    {
     "name": "stdout",
     "output_type": "stream",
     "text": [
      "8.7\n",
      "nan\n"
     ]
    }
   ],
   "source": [
    "# We can also use numpy method on arrays\n",
    "mean = y.mean()\n",
    "print(mean)\n",
    "mean = y_nan.mean()\n",
    "print(mean)"
   ]
  },
  {
   "cell_type": "code",
   "execution_count": 38,
   "id": "0d65da40-ec03-4c8a-97b9-6849474750b8",
   "metadata": {
    "tags": []
   },
   "outputs": [
    {
     "name": "stdout",
     "output_type": "stream",
     "text": [
      "8.7\n",
      "8.7\n"
     ]
    }
   ],
   "source": [
    "# We can also use numpy method on series. The pandas method authomatically ignores nan values\n",
    "mean = z.mean()\n",
    "print(mean)\n",
    "mean = z_nan.mean()\n",
    "print(mean)"
   ]
  },
  {
   "cell_type": "code",
   "execution_count": 41,
   "id": "dfdbf0cc-a702-4b11-aaf0-46fa4967e0a3",
   "metadata": {
    "tags": []
   },
   "outputs": [
    {
     "name": "stdout",
     "output_type": "stream",
     "text": [
      "8.7\n",
      "8.7\n"
     ]
    }
   ],
   "source": [
    "# We can do the same for lists and arrays for nanmean()\n",
    "print(np.nanmean(y_nan))\n",
    "print(np.nanmean(x_nan))"
   ]
  },
  {
   "cell_type": "markdown",
   "id": "bf690e96-d965-4fa1-983c-7105c0d35aa1",
   "metadata": {},
   "source": [
    "### Weighted mean\n",
    "The weighted mean, or weighted average, is an extension of the regular mean in statistics. It allows us to give different weights to individual data points, indicating their varying impact on the overall result. You can calculate the weighted mean with built-in Python functions by combining ```sum()``` with either ```range()``` or ```zip()```. "
   ]
  },
  {
   "cell_type": "code",
   "execution_count": 55,
   "id": "735eb057-6f82-48ac-8c3d-6903522bea71",
   "metadata": {
    "tags": []
   },
   "outputs": [
    {
     "name": "stdout",
     "output_type": "stream",
     "text": [
      "6.95\n"
     ]
    }
   ],
   "source": [
    "# We define the values and their weights\n",
    ">>> x = [8.0, 1, 2.5, 4, 28.0]\n",
    ">>> w = [0.1, 0.2, 0.3, 0.25, 0.15]\n",
    "# We calculate the weighted mean\n",
    "wmean = sum(w[i] * x[i] for i in range(len(x))) / sum(w)\n",
    "print(wmean)"
   ]
  },
  {
   "cell_type": "code",
   "execution_count": 56,
   "id": "2523c576-3e7c-48eb-b85c-a3d0f05a25e6",
   "metadata": {
    "tags": []
   },
   "outputs": [
    {
     "name": "stdout",
     "output_type": "stream",
     "text": [
      "6.95\n"
     ]
    }
   ],
   "source": [
    "# Alternatively\n",
    "wmean = sum(x_ * w_ for (x_, w_) in zip(x, w)) / sum(w)\n",
    "print(wmean)"
   ]
  },
  {
   "cell_type": "markdown",
   "id": "9f24e2b5-1f39-4e88-9f1b-c32b648778a7",
   "metadata": {},
   "source": [
    "You also can use ```np.average()``` to get the weighted mean of NumPy arrays or pandas Series"
   ]
  },
  {
   "cell_type": "code",
   "execution_count": 57,
   "id": "3da407ed-42cd-4f04-a758-70d7cc866b41",
   "metadata": {
    "tags": []
   },
   "outputs": [
    {
     "name": "stdout",
     "output_type": "stream",
     "text": [
      "6.95\n"
     ]
    }
   ],
   "source": [
    "# We calculate the weighted mean of an array\n",
    "wmean = np.average(y, weights=w)\n",
    "print(wmean)"
   ]
  },
  {
   "cell_type": "code",
   "execution_count": 58,
   "id": "015b8065-bd16-4b39-8530-8c53d5428728",
   "metadata": {
    "tags": []
   },
   "outputs": [
    {
     "name": "stdout",
     "output_type": "stream",
     "text": [
      "6.95\n"
     ]
    }
   ],
   "source": [
    "# We calculate the weighted mean of a pandas series\n",
    "wmean = np.average(z, weights=w)\n",
    "print(wmean)"
   ]
  },
  {
   "cell_type": "markdown",
   "id": "aee2ce6c-5552-4ab2-9ede-d423118e4907",
   "metadata": {},
   "source": [
    "An alternative approach involves utilizing the element-wise product of w * y and then applying ```np.sum()``` or ```.sum()```(w * y).sum() / w.sum()."
   ]
  },
  {
   "cell_type": "code",
   "execution_count": 60,
   "id": "2d58eb60-b36a-4956-a7f8-a49010d5354e",
   "metadata": {
    "tags": []
   },
   "outputs": [
    {
     "data": {
      "text/plain": [
       "6.95"
      ]
     },
     "execution_count": 60,
     "metadata": {},
     "output_type": "execute_result"
    }
   ],
   "source": [
    "w = np.array(w)\n",
    "(w * y).sum() / w.sum()"
   ]
  },
  {
   "cell_type": "markdown",
   "id": "c9492251-5838-4e17-ba74-3210685683ff",
   "metadata": {},
   "source": [
    "It doesn't work when the data contains nan values"
   ]
  },
  {
   "cell_type": "code",
   "execution_count": 49,
   "id": "0255c9aa-17bd-4422-a819-d3551b35d328",
   "metadata": {
    "tags": []
   },
   "outputs": [
    {
     "name": "stdout",
     "output_type": "stream",
     "text": [
      "nan\n",
      "nan\n"
     ]
    }
   ],
   "source": [
    "w = np.array([0.1, 0.2, 0.3, 0.0, 0.2, 0.1])\n",
    "wmean = np.average(y_nan, weights=w)\n",
    "print(wmean)\n",
    "wmean = np.average(z_nan, weights=w)\n",
    "print(wmean)"
   ]
  },
  {
   "cell_type": "markdown",
   "id": "d94ba9be-7082-4e2a-9ca2-1e4e8f144af5",
   "metadata": {},
   "source": [
    "### Harmonic Mean\n",
    "The harmonic mean, unlike the weighted mean, highlights the importance of smaller values in a dataset. The harmonic mean accounts for reciprocal values, making it particularly useful in scenarios where rates or ratios play a crucial role. It formula is given by\n",
    "$$\n",
    "\\frac{n}{ \\sum_i(1/x_i)}, \\text{where } i = 1, 2, ..., n\n",
    "$$\n",
    "\n",
    "In Python, you can easily calculate the harmonic mean using functions like ```scipy.stats.hmean()``` or ```statistics.harmonic_mean(x)```"
   ]
  },
  {
   "cell_type": "code",
   "execution_count": 61,
   "id": "733699d8-68f7-4afd-8ba6-b9b982897746",
   "metadata": {
    "tags": []
   },
   "outputs": [
    {
     "name": "stdout",
     "output_type": "stream",
     "text": [
      "2.7613412228796843\n"
     ]
    }
   ],
   "source": [
    "x = [8.0, 1, 2.5, 4, 28.0]\n",
    "hmean = len(x) / sum(1 / item for item in x)\n",
    "print(hmean)"
   ]
  },
  {
   "cell_type": "code",
   "execution_count": 62,
   "id": "3dfff181-0737-404a-b822-f41755971c7b",
   "metadata": {
    "tags": []
   },
   "outputs": [
    {
     "name": "stdout",
     "output_type": "stream",
     "text": [
      "2.7613412228796843\n"
     ]
    }
   ],
   "source": [
    "# We can use scipy\n",
    "hmean = stats.hmean(x)\n",
    "print(hmean)"
   ]
  },
  {
   "cell_type": "code",
   "execution_count": 64,
   "id": "cc9c68d3-3218-4e2b-acad-5139d23460a8",
   "metadata": {
    "tags": []
   },
   "outputs": [
    {
     "name": "stdout",
     "output_type": "stream",
     "text": [
      "2.7613412228796843\n"
     ]
    }
   ],
   "source": [
    "# Or we can use the built-in statistics package\n",
    "hmean = statistics.harmonic_mean(x)\n",
    "print(hmean)"
   ]
  },
  {
   "cell_type": "code",
   "execution_count": 67,
   "id": "934eb5d1-26ce-4601-9fa1-379c40666ae6",
   "metadata": {
    "tags": []
   },
   "outputs": [
    {
     "data": {
      "text/plain": [
       "nan"
      ]
     },
     "execution_count": 67,
     "metadata": {},
     "output_type": "execute_result"
    }
   ],
   "source": [
    "# If there is a nan value it returns nan\n",
    "statistics.harmonic_mean(x_nan)"
   ]
  },
  {
   "cell_type": "code",
   "execution_count": 70,
   "id": "151bd96a-a52a-4e04-a705-a6c22ef171f8",
   "metadata": {
    "tags": []
   },
   "outputs": [
    {
     "data": {
      "text/plain": [
       "0"
      ]
     },
     "execution_count": 70,
     "metadata": {},
     "output_type": "execute_result"
    }
   ],
   "source": [
    "# If there is a 0 it returns 0\n",
    "statistics.harmonic_mean([1, 0, 2])"
   ]
  },
  {
   "cell_type": "code",
   "execution_count": 69,
   "id": "7c24db2e-3949-4062-9171-70390e6cc084",
   "metadata": {
    "tags": []
   },
   "outputs": [],
   "source": [
    "# If there a negative number, it returns an error\n",
    "#statistics.harmonic_mean([1, 2, -2]) "
   ]
  },
  {
   "cell_type": "code",
   "execution_count": 66,
   "id": "7a6a294f-7a7e-491e-9b4e-d0d6cd277a68",
   "metadata": {
    "tags": []
   },
   "outputs": [
    {
     "name": "stdout",
     "output_type": "stream",
     "text": [
      "2.7613412228796843\n",
      "2.7613412228796843\n"
     ]
    }
   ],
   "source": [
    "# We can apply it to arrays and pandas series\n",
    "print(stats.hmean(y))\n",
    "print(stats.hmean(z))"
   ]
  },
  {
   "cell_type": "markdown",
   "id": "421e3b6b-64d5-4d67-94d3-1d72336e10fc",
   "metadata": {},
   "source": [
    "### Geometric Mean\n",
    "The geometric mean is expressed mathematically as the $n-th$ root of the product of all $n$ elements $x_i$ in a dataset $x$:\n",
    "\n",
    "$$\\sqrt[n]{\\prod_{i=1}^{n} x_i}, \\text{where } (i = 1, 2, \\ldots, n)$$"
   ]
  },
  {
   "cell_type": "markdown",
   "id": "bc132612-92c1-4a5e-90c6-b4aafe056bda",
   "metadata": {},
   "source": [
    "You can incorporate the geometric mean using pure Python in the following manner"
   ]
  },
  {
   "cell_type": "code",
   "execution_count": 73,
   "id": "97f2b7d4-acfa-40c5-84f4-2b8f531413d2",
   "metadata": {
    "tags": []
   },
   "outputs": [
    {
     "name": "stdout",
     "output_type": "stream",
     "text": [
      "4.677885674856041\n"
     ]
    }
   ],
   "source": [
    "gmean = 1\n",
    "for item in x:\n",
    "     gmean *= item\n",
    "\n",
    "gmean **= 1 / len(x)\n",
    "print(gmean)"
   ]
  },
  {
   "cell_type": "code",
   "execution_count": 74,
   "id": "9a8f7b2c-f2b6-434a-979f-1984e443a61e",
   "metadata": {
    "tags": []
   },
   "outputs": [
    {
     "data": {
      "text/plain": [
       "4.67788567485604"
      ]
     },
     "execution_count": 74,
     "metadata": {},
     "output_type": "execute_result"
    }
   ],
   "source": [
    "# We can also use the statistics built-in function\n",
    "gmean = statistics.geometric_mean(x)\n",
    "gmean"
   ]
  },
  {
   "cell_type": "code",
   "execution_count": 75,
   "id": "08063753-7737-4240-8ca3-17f70af5b3c7",
   "metadata": {
    "tags": []
   },
   "outputs": [
    {
     "data": {
      "text/plain": [
       "nan"
      ]
     },
     "execution_count": 75,
     "metadata": {},
     "output_type": "execute_result"
    }
   ],
   "source": [
    "# DOesn't work with nan values\n",
    "gmean = statistics.geometric_mean(x_nan)\n",
    "gmean"
   ]
  },
  {
   "cell_type": "markdown",
   "id": "23eeb52a-af53-439a-a087-1d9f12fcf518",
   "metadata": {},
   "source": [
    "### Now let's work with a dataframe"
   ]
  },
  {
   "cell_type": "code",
   "execution_count": 3,
   "id": "e2469192-c458-45fd-8c9d-a1826be98533",
   "metadata": {
    "tags": []
   },
   "outputs": [],
   "source": [
    "# We read and transform the database\n",
    ">>> peru = pd.read_excel('databases/peru.xlsx', parse_dates=['Year'])\n",
    ">>> peru = peru.drop(columns=['Unnamed: 0', 'Country'])\n",
    ">>> peru.set_index('Year', inplace=True)"
   ]
  },
  {
   "cell_type": "code",
   "execution_count": 4,
   "id": "d4d058fa-cf6a-4e2a-9af1-0c01222f353f",
   "metadata": {
    "tags": []
   },
   "outputs": [
    {
     "data": {
      "text/html": [
       "<div>\n",
       "<style scoped>\n",
       "    .dataframe tbody tr th:only-of-type {\n",
       "        vertical-align: middle;\n",
       "    }\n",
       "\n",
       "    .dataframe tbody tr th {\n",
       "        vertical-align: top;\n",
       "    }\n",
       "\n",
       "    .dataframe thead th {\n",
       "        text-align: right;\n",
       "    }\n",
       "</style>\n",
       "<table border=\"1\" class=\"dataframe\">\n",
       "  <thead>\n",
       "    <tr style=\"text-align: right;\">\n",
       "      <th></th>\n",
       "      <th>Current account balance</th>\n",
       "      <th>General government net debt</th>\n",
       "      <th>General government total expenditure</th>\n",
       "      <th>Unemployment rate</th>\n",
       "      <th>CPI</th>\n",
       "      <th>CBI</th>\n",
       "    </tr>\n",
       "    <tr>\n",
       "      <th>Year</th>\n",
       "      <th></th>\n",
       "      <th></th>\n",
       "      <th></th>\n",
       "      <th></th>\n",
       "      <th></th>\n",
       "      <th></th>\n",
       "    </tr>\n",
       "  </thead>\n",
       "  <tbody>\n",
       "    <tr>\n",
       "      <th>1980-01-01</th>\n",
       "      <td>-5.175</td>\n",
       "      <td>NaN</td>\n",
       "      <td>NaN</td>\n",
       "      <td>7.326</td>\n",
       "      <td>59.145</td>\n",
       "      <td>0.43875</td>\n",
       "    </tr>\n",
       "    <tr>\n",
       "      <th>1981-01-01</th>\n",
       "      <td>-9.673</td>\n",
       "      <td>NaN</td>\n",
       "      <td>NaN</td>\n",
       "      <td>6.800</td>\n",
       "      <td>75.433</td>\n",
       "      <td>0.43875</td>\n",
       "    </tr>\n",
       "    <tr>\n",
       "      <th>1982-01-01</th>\n",
       "      <td>-9.142</td>\n",
       "      <td>NaN</td>\n",
       "      <td>NaN</td>\n",
       "      <td>6.400</td>\n",
       "      <td>64.460</td>\n",
       "      <td>0.43875</td>\n",
       "    </tr>\n",
       "    <tr>\n",
       "      <th>1983-01-01</th>\n",
       "      <td>-6.842</td>\n",
       "      <td>NaN</td>\n",
       "      <td>NaN</td>\n",
       "      <td>9.000</td>\n",
       "      <td>111.149</td>\n",
       "      <td>0.43875</td>\n",
       "    </tr>\n",
       "    <tr>\n",
       "      <th>1984-01-01</th>\n",
       "      <td>-1.381</td>\n",
       "      <td>NaN</td>\n",
       "      <td>NaN</td>\n",
       "      <td>8.900</td>\n",
       "      <td>110.209</td>\n",
       "      <td>0.43875</td>\n",
       "    </tr>\n",
       "  </tbody>\n",
       "</table>\n",
       "</div>"
      ],
      "text/plain": [
       "            Current account balance  General government net debt  \\\n",
       "Year                                                               \n",
       "1980-01-01                   -5.175                          NaN   \n",
       "1981-01-01                   -9.673                          NaN   \n",
       "1982-01-01                   -9.142                          NaN   \n",
       "1983-01-01                   -6.842                          NaN   \n",
       "1984-01-01                   -1.381                          NaN   \n",
       "\n",
       "            General government total expenditure  Unemployment rate      CPI  \\\n",
       "Year                                                                           \n",
       "1980-01-01                                   NaN              7.326   59.145   \n",
       "1981-01-01                                   NaN              6.800   75.433   \n",
       "1982-01-01                                   NaN              6.400   64.460   \n",
       "1983-01-01                                   NaN              9.000  111.149   \n",
       "1984-01-01                                   NaN              8.900  110.209   \n",
       "\n",
       "                CBI  \n",
       "Year                 \n",
       "1980-01-01  0.43875  \n",
       "1981-01-01  0.43875  \n",
       "1982-01-01  0.43875  \n",
       "1983-01-01  0.43875  \n",
       "1984-01-01  0.43875  "
      ]
     },
     "execution_count": 4,
     "metadata": {},
     "output_type": "execute_result"
    }
   ],
   "source": [
    "# We analize it\n",
    "peru.head()"
   ]
  },
  {
   "cell_type": "code",
   "execution_count": 5,
   "id": "7378a0f6-3ba1-4461-80da-d1c69120b090",
   "metadata": {
    "tags": []
   },
   "outputs": [
    {
     "data": {
      "text/html": [
       "<div>\n",
       "<style scoped>\n",
       "    .dataframe tbody tr th:only-of-type {\n",
       "        vertical-align: middle;\n",
       "    }\n",
       "\n",
       "    .dataframe tbody tr th {\n",
       "        vertical-align: top;\n",
       "    }\n",
       "\n",
       "    .dataframe thead th {\n",
       "        text-align: right;\n",
       "    }\n",
       "</style>\n",
       "<table border=\"1\" class=\"dataframe\">\n",
       "  <thead>\n",
       "    <tr style=\"text-align: right;\">\n",
       "      <th></th>\n",
       "      <th>Current account balance</th>\n",
       "      <th>General government net debt</th>\n",
       "      <th>General government total expenditure</th>\n",
       "      <th>Unemployment rate</th>\n",
       "      <th>CPI</th>\n",
       "      <th>CBI</th>\n",
       "    </tr>\n",
       "  </thead>\n",
       "  <tbody>\n",
       "    <tr>\n",
       "      <th>count</th>\n",
       "      <td>42.000000</td>\n",
       "      <td>22.000000</td>\n",
       "      <td>22.000000</td>\n",
       "      <td>42.000000</td>\n",
       "      <td>41.000000</td>\n",
       "      <td>41.000000</td>\n",
       "    </tr>\n",
       "    <tr>\n",
       "      <th>mean</th>\n",
       "      <td>-3.368333</td>\n",
       "      <td>17.760636</td>\n",
       "      <td>21.070182</td>\n",
       "      <td>7.779119</td>\n",
       "      <td>315.795195</td>\n",
       "      <td>0.702226</td>\n",
       "    </tr>\n",
       "    <tr>\n",
       "      <th>std</th>\n",
       "      <td>3.052220</td>\n",
       "      <td>13.084920</td>\n",
       "      <td>1.740462</td>\n",
       "      <td>1.752538</td>\n",
       "      <td>1266.240395</td>\n",
       "      <td>0.171591</td>\n",
       "    </tr>\n",
       "    <tr>\n",
       "      <th>min</th>\n",
       "      <td>-9.673000</td>\n",
       "      <td>1.499000</td>\n",
       "      <td>18.593000</td>\n",
       "      <td>4.156000</td>\n",
       "      <td>0.192000</td>\n",
       "      <td>0.438750</td>\n",
       "    </tr>\n",
       "    <tr>\n",
       "      <th>25%</th>\n",
       "      <td>-5.428250</td>\n",
       "      <td>7.350000</td>\n",
       "      <td>19.901500</td>\n",
       "      <td>6.710500</td>\n",
       "      <td>2.804000</td>\n",
       "      <td>0.438750</td>\n",
       "    </tr>\n",
       "    <tr>\n",
       "      <th>50%</th>\n",
       "      <td>-2.966000</td>\n",
       "      <td>12.611500</td>\n",
       "      <td>20.948500</td>\n",
       "      <td>7.863500</td>\n",
       "      <td>3.759000</td>\n",
       "      <td>0.811250</td>\n",
       "    </tr>\n",
       "    <tr>\n",
       "      <th>75%</th>\n",
       "      <td>-1.285000</td>\n",
       "      <td>29.997250</td>\n",
       "      <td>21.466000</td>\n",
       "      <td>8.975000</td>\n",
       "      <td>73.529000</td>\n",
       "      <td>0.811250</td>\n",
       "    </tr>\n",
       "    <tr>\n",
       "      <th>max</th>\n",
       "      <td>3.331000</td>\n",
       "      <td>38.672000</td>\n",
       "      <td>26.862000</td>\n",
       "      <td>13.000000</td>\n",
       "      <td>7481.691000</td>\n",
       "      <td>0.811250</td>\n",
       "    </tr>\n",
       "  </tbody>\n",
       "</table>\n",
       "</div>"
      ],
      "text/plain": [
       "       Current account balance  General government net debt  \\\n",
       "count                42.000000                    22.000000   \n",
       "mean                 -3.368333                    17.760636   \n",
       "std                   3.052220                    13.084920   \n",
       "min                  -9.673000                     1.499000   \n",
       "25%                  -5.428250                     7.350000   \n",
       "50%                  -2.966000                    12.611500   \n",
       "75%                  -1.285000                    29.997250   \n",
       "max                   3.331000                    38.672000   \n",
       "\n",
       "       General government total expenditure  Unemployment rate          CPI  \\\n",
       "count                             22.000000          42.000000    41.000000   \n",
       "mean                              21.070182           7.779119   315.795195   \n",
       "std                                1.740462           1.752538  1266.240395   \n",
       "min                               18.593000           4.156000     0.192000   \n",
       "25%                               19.901500           6.710500     2.804000   \n",
       "50%                               20.948500           7.863500     3.759000   \n",
       "75%                               21.466000           8.975000    73.529000   \n",
       "max                               26.862000          13.000000  7481.691000   \n",
       "\n",
       "             CBI  \n",
       "count  41.000000  \n",
       "mean    0.702226  \n",
       "std     0.171591  \n",
       "min     0.438750  \n",
       "25%     0.438750  \n",
       "50%     0.811250  \n",
       "75%     0.811250  \n",
       "max     0.811250  "
      ]
     },
     "execution_count": 5,
     "metadata": {},
     "output_type": "execute_result"
    }
   ],
   "source": [
    "# We further analyse it with the describe() function\n",
    "peru.describe()"
   ]
  },
  {
   "cell_type": "code",
   "execution_count": 6,
   "id": "21fadd8d-17f3-4528-a434-fcbc78af4b06",
   "metadata": {
    "tags": []
   },
   "outputs": [
    {
     "data": {
      "text/plain": [
       "Current account balance                 42\n",
       "General government net debt             22\n",
       "General government total expenditure    22\n",
       "Unemployment rate                       42\n",
       "CPI                                     41\n",
       "CBI                                     41\n",
       "dtype: int64"
      ]
     },
     "execution_count": 6,
     "metadata": {},
     "output_type": "execute_result"
    }
   ],
   "source": [
    "peru.count()"
   ]
  },
  {
   "cell_type": "code",
   "execution_count": 7,
   "id": "39264fd4-f138-47f0-b3b9-aa89469abdea",
   "metadata": {
    "tags": []
   },
   "outputs": [
    {
     "data": {
      "text/plain": [
       "Current account balance                  -3.368333\n",
       "General government net debt              17.760636\n",
       "General government total expenditure     21.070182\n",
       "Unemployment rate                         7.779119\n",
       "CPI                                     315.795195\n",
       "CBI                                       0.702226\n",
       "dtype: float64"
      ]
     },
     "execution_count": 7,
     "metadata": {},
     "output_type": "execute_result"
    }
   ],
   "source": [
    "peru.mean()"
   ]
  },
  {
   "cell_type": "code",
   "execution_count": 8,
   "id": "0776044c-362e-45ea-b108-47b8d60de843",
   "metadata": {
    "tags": []
   },
   "outputs": [
    {
     "data": {
      "text/plain": [
       "Current account balance                    3.33100\n",
       "General government net debt               38.67200\n",
       "General government total expenditure      26.86200\n",
       "Unemployment rate                         13.00000\n",
       "CPI                                     7481.69100\n",
       "CBI                                        0.81125\n",
       "dtype: float64"
      ]
     },
     "execution_count": 8,
     "metadata": {},
     "output_type": "execute_result"
    }
   ],
   "source": [
    "peru.max()"
   ]
  },
  {
   "cell_type": "code",
   "execution_count": 9,
   "id": "0276d2b6-f054-4903-ac43-ea690e5868ee",
   "metadata": {
    "tags": []
   },
   "outputs": [
    {
     "data": {
      "text/plain": [
       "Current account balance                 -9.67300\n",
       "General government net debt              1.49900\n",
       "General government total expenditure    18.59300\n",
       "Unemployment rate                        4.15600\n",
       "CPI                                      0.19200\n",
       "CBI                                      0.43875\n",
       "dtype: float64"
      ]
     },
     "execution_count": 9,
     "metadata": {},
     "output_type": "execute_result"
    }
   ],
   "source": [
    "peru.min()"
   ]
  },
  {
   "cell_type": "markdown",
   "id": "7e0f4b27-074d-4ba7-9fc1-39ae330d07e0",
   "metadata": {},
   "source": [
    "We can equally inspect it using the numpy library. We can use np.mean(), np.median() and stats.mode()"
   ]
  },
  {
   "cell_type": "code",
   "execution_count": 10,
   "id": "f39eedae-93ac-425f-aded-7509491830f2",
   "metadata": {
    "tags": []
   },
   "outputs": [
    {
     "name": "stdout",
     "output_type": "stream",
     "text": [
      "The mean for Current account balance is -3.368333333333333\n",
      "The mean for General government net debt is 17.760636363636365\n",
      "The mean for General government total expenditure is 21.07018181818182\n",
      "The mean for Unemployment rate is 7.779119047619046\n",
      "The mean for CPI is 315.7951951219512\n",
      "The mean for CBI is 0.7022256097560977\n"
     ]
    }
   ],
   "source": [
    "print(f'The mean for Current account balance is {np.mean(peru[\"Current account balance\"])}')\n",
    "print(f'The mean for General government net debt is {np.mean(peru[\"General government net debt\"])}')\n",
    "print(f'The mean for General government total expenditure is {np.mean(peru[\"General government total expenditure\"])}')\n",
    "print(f'The mean for Unemployment rate is {np.mean(peru[\"Unemployment rate\"])}')\n",
    "print(f'The mean for CPI is {np.mean(peru[\"CPI\"])}')\n",
    "print(f'The mean for CBI is {np.mean(peru[\"CBI\"])}')"
   ]
  },
  {
   "cell_type": "code",
   "execution_count": 11,
   "id": "53229bef-9cae-4cb4-a21e-47beab62ee70",
   "metadata": {
    "tags": []
   },
   "outputs": [
    {
     "name": "stdout",
     "output_type": "stream",
     "text": [
      "The median for Current account balance is -2.966\n",
      "The median for General government net debt is nan\n",
      "The median for General government total expenditure is nan\n",
      "The median for Unemployment rate is 7.8635\n",
      "The median for CPI is nan\n",
      "The median for CBI is nan\n"
     ]
    }
   ],
   "source": [
    "print(f'The median for Current account balance is {np.median(peru[\"Current account balance\"])}')\n",
    "print(f'The median for General government net debt is {np.median(peru[\"General government net debt\"])}')\n",
    "print(f'The median for General government total expenditure is {np.median(peru[\"General government total expenditure\"])}')\n",
    "print(f'The median for Unemployment rate is {np.median(peru[\"Unemployment rate\"])}')\n",
    "print(f'The median for CPI is {np.median(peru[\"CPI\"])}')\n",
    "print(f'The median for CBI is {np.median(peru[\"CBI\"])}')"
   ]
  },
  {
   "cell_type": "code",
   "execution_count": 12,
   "id": "a5f27015-805b-4e60-a3b9-0dee43e342da",
   "metadata": {
    "tags": []
   },
   "outputs": [
    {
     "name": "stdout",
     "output_type": "stream",
     "text": [
      "The mode for Current account balance is -9.673\n",
      "The mode for General government net debt is nan\n",
      "The mode for General government total expenditure is nan\n",
      "The mode for Unemployment rate is 9.4\n",
      "The mode for CPI is 0.192\n",
      "The mode for CBI is 0.81125\n"
     ]
    }
   ],
   "source": [
    "print(f'The mode for Current account balance is {stats.mode(peru[\"Current account balance\"])[0]}')\n",
    "print(f'The mode for General government net debt is {stats.mode(peru[\"General government net debt\"])[0]}')\n",
    "print(f'The mode for General government total expenditure is {stats.mode(peru[\"General government total expenditure\"])[0]}')\n",
    "print(f'The mode for Unemployment rate is {stats.mode(peru[\"Unemployment rate\"])[0]}')\n",
    "print(f'The mode for CPI is {stats.mode(peru[\"CPI\"])[0]}')\n",
    "print(f'The mode for CBI is {stats.mode(peru[\"CBI\"])[0]}')"
   ]
  },
  {
   "cell_type": "markdown",
   "id": "695b83fe-e28f-481f-b8d6-0e2c31b02b3f",
   "metadata": {},
   "source": [
    "What can we do about all those nans ?"
   ]
  },
  {
   "cell_type": "code",
   "execution_count": 13,
   "id": "739be4e7-ff66-41b8-b534-bad38884070c",
   "metadata": {},
   "outputs": [
    {
     "data": {
      "text/html": [
       "<div>\n",
       "<style scoped>\n",
       "    .dataframe tbody tr th:only-of-type {\n",
       "        vertical-align: middle;\n",
       "    }\n",
       "\n",
       "    .dataframe tbody tr th {\n",
       "        vertical-align: top;\n",
       "    }\n",
       "\n",
       "    .dataframe thead th {\n",
       "        text-align: right;\n",
       "    }\n",
       "</style>\n",
       "<table border=\"1\" class=\"dataframe\">\n",
       "  <thead>\n",
       "    <tr style=\"text-align: right;\">\n",
       "      <th></th>\n",
       "      <th>Current account balance</th>\n",
       "      <th>General government net debt</th>\n",
       "      <th>General government total expenditure</th>\n",
       "      <th>Unemployment rate</th>\n",
       "      <th>CPI</th>\n",
       "      <th>CBI</th>\n",
       "    </tr>\n",
       "    <tr>\n",
       "      <th>Year</th>\n",
       "      <th></th>\n",
       "      <th></th>\n",
       "      <th></th>\n",
       "      <th></th>\n",
       "      <th></th>\n",
       "      <th></th>\n",
       "    </tr>\n",
       "  </thead>\n",
       "  <tbody>\n",
       "    <tr>\n",
       "      <th>1980-01-01</th>\n",
       "      <td>-5.175</td>\n",
       "      <td>0.0</td>\n",
       "      <td>0.0</td>\n",
       "      <td>7.326</td>\n",
       "      <td>59.145</td>\n",
       "      <td>0.43875</td>\n",
       "    </tr>\n",
       "    <tr>\n",
       "      <th>1981-01-01</th>\n",
       "      <td>-9.673</td>\n",
       "      <td>0.0</td>\n",
       "      <td>0.0</td>\n",
       "      <td>6.800</td>\n",
       "      <td>75.433</td>\n",
       "      <td>0.43875</td>\n",
       "    </tr>\n",
       "    <tr>\n",
       "      <th>1982-01-01</th>\n",
       "      <td>-9.142</td>\n",
       "      <td>0.0</td>\n",
       "      <td>0.0</td>\n",
       "      <td>6.400</td>\n",
       "      <td>64.460</td>\n",
       "      <td>0.43875</td>\n",
       "    </tr>\n",
       "    <tr>\n",
       "      <th>1983-01-01</th>\n",
       "      <td>-6.842</td>\n",
       "      <td>0.0</td>\n",
       "      <td>0.0</td>\n",
       "      <td>9.000</td>\n",
       "      <td>111.149</td>\n",
       "      <td>0.43875</td>\n",
       "    </tr>\n",
       "    <tr>\n",
       "      <th>1984-01-01</th>\n",
       "      <td>-1.381</td>\n",
       "      <td>0.0</td>\n",
       "      <td>0.0</td>\n",
       "      <td>8.900</td>\n",
       "      <td>110.209</td>\n",
       "      <td>0.43875</td>\n",
       "    </tr>\n",
       "  </tbody>\n",
       "</table>\n",
       "</div>"
      ],
      "text/plain": [
       "            Current account balance  General government net debt  \\\n",
       "Year                                                               \n",
       "1980-01-01                   -5.175                          0.0   \n",
       "1981-01-01                   -9.673                          0.0   \n",
       "1982-01-01                   -9.142                          0.0   \n",
       "1983-01-01                   -6.842                          0.0   \n",
       "1984-01-01                   -1.381                          0.0   \n",
       "\n",
       "            General government total expenditure  Unemployment rate      CPI  \\\n",
       "Year                                                                           \n",
       "1980-01-01                                   0.0              7.326   59.145   \n",
       "1981-01-01                                   0.0              6.800   75.433   \n",
       "1982-01-01                                   0.0              6.400   64.460   \n",
       "1983-01-01                                   0.0              9.000  111.149   \n",
       "1984-01-01                                   0.0              8.900  110.209   \n",
       "\n",
       "                CBI  \n",
       "Year                 \n",
       "1980-01-01  0.43875  \n",
       "1981-01-01  0.43875  \n",
       "1982-01-01  0.43875  \n",
       "1983-01-01  0.43875  \n",
       "1984-01-01  0.43875  "
      ]
     },
     "execution_count": 13,
     "metadata": {},
     "output_type": "execute_result"
    }
   ],
   "source": [
    "# We can either fill them with 0s \n",
    "peru_filled = peru.fillna(0).head()\n",
    "peru_filled"
   ]
  },
  {
   "cell_type": "code",
   "execution_count": 14,
   "id": "4cc19b00-af71-4ba0-8b6d-885e9ce51f8b",
   "metadata": {
    "tags": []
   },
   "outputs": [
    {
     "data": {
      "text/html": [
       "<div>\n",
       "<style scoped>\n",
       "    .dataframe tbody tr th:only-of-type {\n",
       "        vertical-align: middle;\n",
       "    }\n",
       "\n",
       "    .dataframe tbody tr th {\n",
       "        vertical-align: top;\n",
       "    }\n",
       "\n",
       "    .dataframe thead th {\n",
       "        text-align: right;\n",
       "    }\n",
       "</style>\n",
       "<table border=\"1\" class=\"dataframe\">\n",
       "  <thead>\n",
       "    <tr style=\"text-align: right;\">\n",
       "      <th></th>\n",
       "      <th>Current account balance</th>\n",
       "      <th>General government net debt</th>\n",
       "      <th>General government total expenditure</th>\n",
       "      <th>Unemployment rate</th>\n",
       "      <th>CPI</th>\n",
       "      <th>CBI</th>\n",
       "    </tr>\n",
       "    <tr>\n",
       "      <th>Year</th>\n",
       "      <th></th>\n",
       "      <th></th>\n",
       "      <th></th>\n",
       "      <th></th>\n",
       "      <th></th>\n",
       "      <th></th>\n",
       "    </tr>\n",
       "  </thead>\n",
       "  <tbody>\n",
       "    <tr>\n",
       "      <th>2000-01-01</th>\n",
       "      <td>-3.064</td>\n",
       "      <td>37.680</td>\n",
       "      <td>21.735</td>\n",
       "      <td>7.847</td>\n",
       "      <td>3.759</td>\n",
       "      <td>0.81125</td>\n",
       "    </tr>\n",
       "    <tr>\n",
       "      <th>2001-01-01</th>\n",
       "      <td>-2.351</td>\n",
       "      <td>37.060</td>\n",
       "      <td>20.934</td>\n",
       "      <td>9.246</td>\n",
       "      <td>1.975</td>\n",
       "      <td>0.81125</td>\n",
       "    </tr>\n",
       "    <tr>\n",
       "      <th>2002-01-01</th>\n",
       "      <td>-2.031</td>\n",
       "      <td>38.128</td>\n",
       "      <td>19.649</td>\n",
       "      <td>9.420</td>\n",
       "      <td>0.192</td>\n",
       "      <td>0.81125</td>\n",
       "    </tr>\n",
       "    <tr>\n",
       "      <th>2003-01-01</th>\n",
       "      <td>-1.592</td>\n",
       "      <td>38.672</td>\n",
       "      <td>20.113</td>\n",
       "      <td>9.424</td>\n",
       "      <td>2.261</td>\n",
       "      <td>0.81125</td>\n",
       "    </tr>\n",
       "    <tr>\n",
       "      <th>2004-01-01</th>\n",
       "      <td>0.094</td>\n",
       "      <td>34.958</td>\n",
       "      <td>19.558</td>\n",
       "      <td>9.436</td>\n",
       "      <td>3.662</td>\n",
       "      <td>0.81125</td>\n",
       "    </tr>\n",
       "  </tbody>\n",
       "</table>\n",
       "</div>"
      ],
      "text/plain": [
       "            Current account balance  General government net debt  \\\n",
       "Year                                                               \n",
       "2000-01-01                   -3.064                       37.680   \n",
       "2001-01-01                   -2.351                       37.060   \n",
       "2002-01-01                   -2.031                       38.128   \n",
       "2003-01-01                   -1.592                       38.672   \n",
       "2004-01-01                    0.094                       34.958   \n",
       "\n",
       "            General government total expenditure  Unemployment rate    CPI  \\\n",
       "Year                                                                         \n",
       "2000-01-01                                21.735              7.847  3.759   \n",
       "2001-01-01                                20.934              9.246  1.975   \n",
       "2002-01-01                                19.649              9.420  0.192   \n",
       "2003-01-01                                20.113              9.424  2.261   \n",
       "2004-01-01                                19.558              9.436  3.662   \n",
       "\n",
       "                CBI  \n",
       "Year                 \n",
       "2000-01-01  0.81125  \n",
       "2001-01-01  0.81125  \n",
       "2002-01-01  0.81125  \n",
       "2003-01-01  0.81125  \n",
       "2004-01-01  0.81125  "
      ]
     },
     "execution_count": 14,
     "metadata": {},
     "output_type": "execute_result"
    }
   ],
   "source": [
    "# Or drop the observations with nans\n",
    "peru_dropped = peru.dropna()\n",
    "peru_dropped.head()"
   ]
  },
  {
   "cell_type": "code",
   "execution_count": 15,
   "id": "3a2e5a8f-296f-456b-9f08-f1d56ebca141",
   "metadata": {
    "tags": []
   },
   "outputs": [
    {
     "data": {
      "text/html": [
       "<div>\n",
       "<style scoped>\n",
       "    .dataframe tbody tr th:only-of-type {\n",
       "        vertical-align: middle;\n",
       "    }\n",
       "\n",
       "    .dataframe tbody tr th {\n",
       "        vertical-align: top;\n",
       "    }\n",
       "\n",
       "    .dataframe thead th {\n",
       "        text-align: right;\n",
       "    }\n",
       "</style>\n",
       "<table border=\"1\" class=\"dataframe\">\n",
       "  <thead>\n",
       "    <tr style=\"text-align: right;\">\n",
       "      <th></th>\n",
       "      <th>Current account balance</th>\n",
       "      <th>General government net debt</th>\n",
       "      <th>General government total expenditure</th>\n",
       "      <th>Unemployment rate</th>\n",
       "      <th>CPI</th>\n",
       "      <th>CBI</th>\n",
       "    </tr>\n",
       "  </thead>\n",
       "  <tbody>\n",
       "    <tr>\n",
       "      <th>count</th>\n",
       "      <td>21.000000</td>\n",
       "      <td>21.000000</td>\n",
       "      <td>21.000000</td>\n",
       "      <td>21.000000</td>\n",
       "      <td>21.000000</td>\n",
       "      <td>2.100000e+01</td>\n",
       "    </tr>\n",
       "    <tr>\n",
       "      <th>mean</th>\n",
       "      <td>-1.538429</td>\n",
       "      <td>17.664095</td>\n",
       "      <td>20.952190</td>\n",
       "      <td>8.064381</td>\n",
       "      <td>2.657238</td>\n",
       "      <td>8.112500e-01</td>\n",
       "    </tr>\n",
       "    <tr>\n",
       "      <th>std</th>\n",
       "      <td>2.203459</td>\n",
       "      <td>13.400022</td>\n",
       "      <td>1.690879</td>\n",
       "      <td>1.653685</td>\n",
       "      <td>1.197392</td>\n",
       "      <td>2.275280e-16</td>\n",
       "    </tr>\n",
       "    <tr>\n",
       "      <th>min</th>\n",
       "      <td>-4.814000</td>\n",
       "      <td>1.499000</td>\n",
       "      <td>18.593000</td>\n",
       "      <td>5.938000</td>\n",
       "      <td>0.192000</td>\n",
       "      <td>8.112500e-01</td>\n",
       "    </tr>\n",
       "    <tr>\n",
       "      <th>25%</th>\n",
       "      <td>-2.868000</td>\n",
       "      <td>6.912000</td>\n",
       "      <td>19.831000</td>\n",
       "      <td>6.742000</td>\n",
       "      <td>1.827000</td>\n",
       "      <td>8.112500e-01</td>\n",
       "    </tr>\n",
       "    <tr>\n",
       "      <th>50%</th>\n",
       "      <td>-1.975000</td>\n",
       "      <td>12.175000</td>\n",
       "      <td>20.946000</td>\n",
       "      <td>7.880000</td>\n",
       "      <td>2.804000</td>\n",
       "      <td>8.112500e-01</td>\n",
       "    </tr>\n",
       "    <tr>\n",
       "      <th>75%</th>\n",
       "      <td>-0.520000</td>\n",
       "      <td>31.966000</td>\n",
       "      <td>21.352000</td>\n",
       "      <td>9.246000</td>\n",
       "      <td>3.548000</td>\n",
       "      <td>8.112500e-01</td>\n",
       "    </tr>\n",
       "    <tr>\n",
       "      <th>max</th>\n",
       "      <td>3.331000</td>\n",
       "      <td>38.672000</td>\n",
       "      <td>26.862000</td>\n",
       "      <td>13.000000</td>\n",
       "      <td>5.788000</td>\n",
       "      <td>8.112500e-01</td>\n",
       "    </tr>\n",
       "  </tbody>\n",
       "</table>\n",
       "</div>"
      ],
      "text/plain": [
       "       Current account balance  General government net debt  \\\n",
       "count                21.000000                    21.000000   \n",
       "mean                 -1.538429                    17.664095   \n",
       "std                   2.203459                    13.400022   \n",
       "min                  -4.814000                     1.499000   \n",
       "25%                  -2.868000                     6.912000   \n",
       "50%                  -1.975000                    12.175000   \n",
       "75%                  -0.520000                    31.966000   \n",
       "max                   3.331000                    38.672000   \n",
       "\n",
       "       General government total expenditure  Unemployment rate        CPI  \\\n",
       "count                             21.000000          21.000000  21.000000   \n",
       "mean                              20.952190           8.064381   2.657238   \n",
       "std                                1.690879           1.653685   1.197392   \n",
       "min                               18.593000           5.938000   0.192000   \n",
       "25%                               19.831000           6.742000   1.827000   \n",
       "50%                               20.946000           7.880000   2.804000   \n",
       "75%                               21.352000           9.246000   3.548000   \n",
       "max                               26.862000          13.000000   5.788000   \n",
       "\n",
       "                CBI  \n",
       "count  2.100000e+01  \n",
       "mean   8.112500e-01  \n",
       "std    2.275280e-16  \n",
       "min    8.112500e-01  \n",
       "25%    8.112500e-01  \n",
       "50%    8.112500e-01  \n",
       "75%    8.112500e-01  \n",
       "max    8.112500e-01  "
      ]
     },
     "execution_count": 15,
     "metadata": {},
     "output_type": "execute_result"
    }
   ],
   "source": [
    "peru_dropped.describe()"
   ]
  },
  {
   "cell_type": "code",
   "execution_count": 16,
   "id": "1e64273f-2c11-4b63-94f0-4f18213a9832",
   "metadata": {
    "tags": []
   },
   "outputs": [
    {
     "data": {
      "text/html": [
       "<div>\n",
       "<style scoped>\n",
       "    .dataframe tbody tr th:only-of-type {\n",
       "        vertical-align: middle;\n",
       "    }\n",
       "\n",
       "    .dataframe tbody tr th {\n",
       "        vertical-align: top;\n",
       "    }\n",
       "\n",
       "    .dataframe thead th {\n",
       "        text-align: right;\n",
       "    }\n",
       "</style>\n",
       "<table border=\"1\" class=\"dataframe\">\n",
       "  <thead>\n",
       "    <tr style=\"text-align: right;\">\n",
       "      <th></th>\n",
       "      <th>Current account balance</th>\n",
       "      <th>General government net debt</th>\n",
       "      <th>General government total expenditure</th>\n",
       "      <th>Unemployment rate</th>\n",
       "      <th>CPI</th>\n",
       "      <th>CBI</th>\n",
       "    </tr>\n",
       "  </thead>\n",
       "  <tbody>\n",
       "    <tr>\n",
       "      <th>count</th>\n",
       "      <td>5.000000</td>\n",
       "      <td>5.0</td>\n",
       "      <td>5.0</td>\n",
       "      <td>5.000000</td>\n",
       "      <td>5.000000</td>\n",
       "      <td>5.000000e+00</td>\n",
       "    </tr>\n",
       "    <tr>\n",
       "      <th>mean</th>\n",
       "      <td>-6.442600</td>\n",
       "      <td>0.0</td>\n",
       "      <td>0.0</td>\n",
       "      <td>7.685200</td>\n",
       "      <td>84.079200</td>\n",
       "      <td>4.387500e-01</td>\n",
       "    </tr>\n",
       "    <tr>\n",
       "      <th>std</th>\n",
       "      <td>3.358138</td>\n",
       "      <td>0.0</td>\n",
       "      <td>0.0</td>\n",
       "      <td>1.200914</td>\n",
       "      <td>24.984618</td>\n",
       "      <td>6.206335e-17</td>\n",
       "    </tr>\n",
       "    <tr>\n",
       "      <th>min</th>\n",
       "      <td>-9.673000</td>\n",
       "      <td>0.0</td>\n",
       "      <td>0.0</td>\n",
       "      <td>6.400000</td>\n",
       "      <td>59.145000</td>\n",
       "      <td>4.387500e-01</td>\n",
       "    </tr>\n",
       "    <tr>\n",
       "      <th>25%</th>\n",
       "      <td>-9.142000</td>\n",
       "      <td>0.0</td>\n",
       "      <td>0.0</td>\n",
       "      <td>6.800000</td>\n",
       "      <td>64.460000</td>\n",
       "      <td>4.387500e-01</td>\n",
       "    </tr>\n",
       "    <tr>\n",
       "      <th>50%</th>\n",
       "      <td>-6.842000</td>\n",
       "      <td>0.0</td>\n",
       "      <td>0.0</td>\n",
       "      <td>7.326000</td>\n",
       "      <td>75.433000</td>\n",
       "      <td>4.387500e-01</td>\n",
       "    </tr>\n",
       "    <tr>\n",
       "      <th>75%</th>\n",
       "      <td>-5.175000</td>\n",
       "      <td>0.0</td>\n",
       "      <td>0.0</td>\n",
       "      <td>8.900000</td>\n",
       "      <td>110.209000</td>\n",
       "      <td>4.387500e-01</td>\n",
       "    </tr>\n",
       "    <tr>\n",
       "      <th>max</th>\n",
       "      <td>-1.381000</td>\n",
       "      <td>0.0</td>\n",
       "      <td>0.0</td>\n",
       "      <td>9.000000</td>\n",
       "      <td>111.149000</td>\n",
       "      <td>4.387500e-01</td>\n",
       "    </tr>\n",
       "  </tbody>\n",
       "</table>\n",
       "</div>"
      ],
      "text/plain": [
       "       Current account balance  General government net debt  \\\n",
       "count                 5.000000                          5.0   \n",
       "mean                 -6.442600                          0.0   \n",
       "std                   3.358138                          0.0   \n",
       "min                  -9.673000                          0.0   \n",
       "25%                  -9.142000                          0.0   \n",
       "50%                  -6.842000                          0.0   \n",
       "75%                  -5.175000                          0.0   \n",
       "max                  -1.381000                          0.0   \n",
       "\n",
       "       General government total expenditure  Unemployment rate         CPI  \\\n",
       "count                                   5.0           5.000000    5.000000   \n",
       "mean                                    0.0           7.685200   84.079200   \n",
       "std                                     0.0           1.200914   24.984618   \n",
       "min                                     0.0           6.400000   59.145000   \n",
       "25%                                     0.0           6.800000   64.460000   \n",
       "50%                                     0.0           7.326000   75.433000   \n",
       "75%                                     0.0           8.900000  110.209000   \n",
       "max                                     0.0           9.000000  111.149000   \n",
       "\n",
       "                CBI  \n",
       "count  5.000000e+00  \n",
       "mean   4.387500e-01  \n",
       "std    6.206335e-17  \n",
       "min    4.387500e-01  \n",
       "25%    4.387500e-01  \n",
       "50%    4.387500e-01  \n",
       "75%    4.387500e-01  \n",
       "max    4.387500e-01  "
      ]
     },
     "execution_count": 16,
     "metadata": {},
     "output_type": "execute_result"
    }
   ],
   "source": [
    "peru_filled.describe()"
   ]
  },
  {
   "cell_type": "code",
   "execution_count": null,
   "id": "08b03e02-9ceb-4d52-bb60-aaf4ba7e620c",
   "metadata": {},
   "outputs": [],
   "source": []
  },
  {
   "cell_type": "markdown",
   "id": "74347de3-392e-4998-b455-b90b68eb496a",
   "metadata": {},
   "source": [
    "## <a id='1.1.'> 1.2 Measures of spread </a> \n",
    "In this section, we delve into the essential tools that help us understand the variability and dispersion within a dataset. Measures such as range, variance, and standard deviation provide insights into how data points are distributed around the central tendency. By using these measures of spread, you'll gain a deeper understanding of the distribution of data, enabling you to make informed decisions and draw meaningful conclusions from your statistical analyses."
   ]
  },
  {
   "cell_type": "code",
   "execution_count": null,
   "id": "83331936-1154-4a90-81a8-3c9b88639f36",
   "metadata": {},
   "outputs": [],
   "source": []
  }
 ],
 "metadata": {
  "kernelspec": {
   "display_name": "Python 3 (ipykernel)",
   "language": "python",
   "name": "python3"
  },
  "language_info": {
   "codemirror_mode": {
    "name": "ipython",
    "version": 3
   },
   "file_extension": ".py",
   "mimetype": "text/x-python",
   "name": "python",
   "nbconvert_exporter": "python",
   "pygments_lexer": "ipython3",
   "version": "3.11.4"
  }
 },
 "nbformat": 4,
 "nbformat_minor": 5
}
